{
 "cells": [
  {
   "cell_type": "markdown",
   "metadata": {},
   "source": [
    "# !Optional! delete all"
   ]
  },
  {
   "cell_type": "markdown",
   "metadata": {},
   "source": [
    "MATCH (n)\n",
    "OPTIONAL MATCH (n)-[r]-()\n",
    "DELETE n, r;"
   ]
  },
  {
   "cell_type": "markdown",
   "metadata": {},
   "source": [
    "# Load data into Neo4j"
   ]
  },
  {
   "cell_type": "code",
   "execution_count": 3,
   "metadata": {
    "collapsed": true
   },
   "outputs": [],
   "source": [
    "import pandas as pd\n",
    "from neo4j.v1 import GraphDatabase, basic_auth"
   ]
  },
  {
   "cell_type": "markdown",
   "metadata": {},
   "source": [
    "## initalize Neo4j driver"
   ]
  },
  {
   "cell_type": "markdown",
   "metadata": {},
   "source": [
    "set host,user,passw "
   ]
  },
  {
   "cell_type": "code",
   "execution_count": 4,
   "metadata": {
    "collapsed": true
   },
   "outputs": [],
   "source": [
    "host = 'bolt://localhost'\n",
    "user = 'neo4j'\n",
    "passw = 'admin'"
   ]
  },
  {
   "cell_type": "code",
   "execution_count": 5,
   "metadata": {
    "collapsed": false
   },
   "outputs": [],
   "source": [
    "driver = GraphDatabase.driver(host, auth=basic_auth(user, passw))\n",
    "db_session = driver.session()"
   ]
  },
  {
   "cell_type": "markdown",
   "metadata": {},
   "source": [
    "## load data as dataframe"
   ]
  },
  {
   "cell_type": "markdown",
   "metadata": {},
   "source": [
    "set the directory having data.xlsx and *_hotel_users.xlsx files"
   ]
  },
  {
   "cell_type": "code",
   "execution_count": null,
   "metadata": {
    "collapsed": true
   },
   "outputs": [],
   "source": [
    "file_dir = '/usr/share/neo4j/import/'"
   ]
  },
  {
   "cell_type": "code",
   "execution_count": 43,
   "metadata": {
    "collapsed": true
   },
   "outputs": [],
   "source": [
    "data_df = pd.read_excel(file_dir + 'Data.xlsx', sheetname='Overview')\n"
   ]
  },
  {
   "cell_type": "code",
   "execution_count": 44,
   "metadata": {
    "collapsed": false
   },
   "outputs": [
    {
     "data": {
      "text/plain": [
       "Index(['city_id', 'city_name', 'forum_content', 'hotels_content',\n",
       "       'hotels_quantity', 'restaurants_content', 'restaurants_quantity',\n",
       "       'things to do_content', 'things to do_quantity',\n",
       "       'vacation rentals_content', 'vacation rentals_quantity'],\n",
       "      dtype='object')"
      ]
     },
     "execution_count": 44,
     "metadata": {},
     "output_type": "execute_result"
    }
   ],
   "source": [
    "data_df.columns"
   ]
  },
  {
   "cell_type": "markdown",
   "metadata": {},
   "source": [
    "## load cities into neo4j from dataframe"
   ]
  },
  {
   "cell_type": "code",
   "execution_count": 45,
   "metadata": {
    "collapsed": false
   },
   "outputs": [],
   "source": [
    "create_cypher = 'CREATE (city:City {{city_id:\"{city_id}\",city_name:\"{city_name}\", forum_content:{forum_content}, \\\n",
    "hotels_content:{hotels_content}, hotels_quantity:{hotels_quantity}, restaurants_content:{restaurants_content}, \\\n",
    "things_to_do_content:{things_to_do_content}, things_to_do_quantity:{things_to_do_quantity}, \\\n",
    "vacation_rentals_content:{vacation_rentals_content}, vacation_rentals_content:{vacation_rentals_content}}})'\n",
    "\n",
    "for i,row in data_df.iterrows():\n",
    "    tmp_cypher = create_cypher.format(city_id=row['city_id'],city_name=row['city_name'],forum_content=row['forum_content'],\\\n",
    "                              hotels_content=row['hotels_content'], hotels_quantity=row['hotels_quantity'], \\\n",
    "                              restaurants_content=row['restaurants_content'],\\\n",
    "                              restaurants_quantity=row['restaurants_quantity'],\\\n",
    "                              things_to_do_content=row['things to do_content'],\\\n",
    "                              things_to_do_quantity=row['things to do_quantity'],\\\n",
    "                              vacation_rentals_content=row['vacation rentals_content'],\\\n",
    "                              vacationrentals_quantity=row['vacation rentals_quantity'])\n",
    "    db_session.run(tmp_cypher)"
   ]
  },
  {
   "cell_type": "markdown",
   "metadata": {},
   "source": [
    "## iterate over files"
   ]
  },
  {
   "cell_type": "code",
   "execution_count": 46,
   "metadata": {
    "collapsed": true
   },
   "outputs": [],
   "source": [
    "relevant_cities = ['g274919','g274897','g274904','g274916',\n",
    "                   'g274921', 'g776248']\n",
    "#veszprem_hotels = 'g274919'"
   ]
  },
  {
   "cell_type": "code",
   "execution_count": 47,
   "metadata": {
    "collapsed": false
   },
   "outputs": [],
   "source": [
    "for city in relevant_cities:\n",
    "    hotels_df = pd.read_excel(file_dir + city + '.xlsx', sheetname='Hotels')\n",
    "    hotel_city_link_cypher = 'MERGE (h :Hotel {{name:\"{hotel_name}\", ratings: toFloat({ratings}),category:{category}\\\n",
    "    ,reviews:{reviews}}}) MERGE (c :City {{city_id:\"{city_id}\"}}) MERGE (h)-[:IS_IN]->(c)'\n",
    "    for i, row in hotels_df.iterrows():\n",
    "        tmp_cypher = hotel_city_link_cypher.format(hotel_name=row['name'],ratings=row['ratings'], \\\n",
    "                                                  category=row['category'], reviews=row['reviews'],\n",
    "                                                  city_id=city)\n",
    "        db_session.run(tmp_cypher)\n",
    "        \n",
    "    hotel_users_df = pd.read_excel(file_dir + city + '_hotel_users.xlsx')\n",
    "    user_hotel_link_cypher = 'MERGE (u :User {{user:\"{user}\"}}) \\\n",
    "    MERGE (h :Hotel {{name:\"{hotel_id}\"}}) MERGE (u)-[:RATED {{rating: toFloat({rating})}}]->(h)'\n",
    "\n",
    "    for i, row in hotel_users_df.iterrows():\n",
    "        tmp_cypher = user_hotel_link_cypher.format(user=row['user'],hotel_id=row['hotel_id'],rating=row['rating'])\n",
    "        db_session.run(tmp_cypher)"
   ]
  }
 ],
 "metadata": {
  "kernelspec": {
   "display_name": "Python 3",
   "language": "python",
   "name": "python3"
  },
  "language_info": {
   "codemirror_mode": {
    "name": "ipython",
    "version": 3
   },
   "file_extension": ".py",
   "mimetype": "text/x-python",
   "name": "python",
   "nbconvert_exporter": "python",
   "pygments_lexer": "ipython3",
   "version": "3.5.2"
  }
 },
 "nbformat": 4,
 "nbformat_minor": 1
}
