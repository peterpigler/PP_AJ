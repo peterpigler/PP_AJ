{
 "cells": [
  {
   "cell_type": "markdown",
   "metadata": {},
   "source": [
    "# !Optional! delete all\n",
    "\n",
    "MATCH (n) OPTIONAL MATCH (n)-[r]-() DELETE n,r;"
   ]
  },
  {
   "cell_type": "markdown",
   "metadata": {},
   "source": [
    "# Load Data into Neo4j"
   ]
  },
  {
   "cell_type": "code",
   "execution_count": 6,
   "metadata": {
    "collapsed": false
   },
   "outputs": [],
   "source": [
    "import pandas as pd\n",
    "from neo4j.v1 import GraphDatabase, basic_auth"
   ]
  },
  {
   "cell_type": "markdown",
   "metadata": {},
   "source": [
    "# Initialize Neo4j Driver\n",
    "Set host, username, password"
   ]
  },
  {
   "cell_type": "code",
   "execution_count": 7,
   "metadata": {
    "collapsed": true
   },
   "outputs": [],
   "source": [
    "host = 'bolt://localhost'\n",
    "user = 'neo4j'\n",
    "passw = 'admin'"
   ]
  },
  {
   "cell_type": "code",
   "execution_count": 9,
   "metadata": {
    "collapsed": false
   },
   "outputs": [],
   "source": [
    "driver = GraphDatabase.driver(host, auth=basic_auth(user, passw))\n",
    "db_session = driver.session()"
   ]
  },
  {
   "cell_type": "markdown",
   "metadata": {},
   "source": [
    "# Load Data as Pandas Dataframe\n",
    "Set the directory having data.xlsx and g*.xlsx files"
   ]
  },
  {
   "cell_type": "code",
   "execution_count": 21,
   "metadata": {
    "collapsed": false
   },
   "outputs": [
    {
     "name": "stdout",
     "output_type": "stream",
     "text": [
      "C:\\Users\\peter\\Documents\n"
     ]
    }
   ],
   "source": [
    "import os\n",
    "print os.getcwd()"
   ]
  },
  {
   "cell_type": "code",
   "execution_count": 22,
   "metadata": {
    "collapsed": false
   },
   "outputs": [],
   "source": [
    "data_df = pd.read_excel('Data.xlsx', sheetname='Overview')"
   ]
  },
  {
   "cell_type": "code",
   "execution_count": 23,
   "metadata": {
    "collapsed": false
   },
   "outputs": [
    {
     "data": {
      "text/plain": [
       "Index([u'city_id', u'city_name', u'forum_content', u'hotels_content',\n",
       "       u'hotels_quantity', u'restaurants_content', u'restaurants_quantity',\n",
       "       u'things to do_content', u'things to do_quantity',\n",
       "       u'vacation rentals_content', u'vacation rentals_quantity'],\n",
       "      dtype='object')"
      ]
     },
     "execution_count": 23,
     "metadata": {},
     "output_type": "execute_result"
    }
   ],
   "source": [
    "data_df.columns"
   ]
  },
  {
   "cell_type": "markdown",
   "metadata": {},
   "source": [
    "# Load cities into neo4j from previously initialized dataframe"
   ]
  },
  {
   "cell_type": "code",
   "execution_count": 24,
   "metadata": {
    "collapsed": true
   },
   "outputs": [],
   "source": [
    "create_cypher = 'CREATE (city:City {{city_id:\"{city_id}\",city_name:\"{city_name}\", forum_content:{forum_content}, \\\n",
    "hotels_content:{hotels_content}, hotels_quantity:{hotels_quantity}, restaurants_content:{restaurants_content}, \\\n",
    "things_to_do_content:{things_to_do_content}, things_to_do_quantity:{things_to_do_quantity}, \\\n",
    "vacation_rentals_content:{vacation_rentals_content}, vacation_rentals_content:{vacation_rentals_content}}})'\n",
    "\n",
    "for i,row in data_df.iterrows():\n",
    "    tmp_cypher = create_cypher.format(city_id=row[u'city_id'],city_name=row[u'city_name'],forum_content=row[u'forum_content'],\\\n",
    "                              hotels_content=row[u'hotels_content'], hotels_quantity=row[u'hotels_quantity'], \\\n",
    "                              restaurants_content=row[u'restaurants_content'],\\\n",
    "                              restaurants_quantity=row[u'restaurants_quantity'],\\\n",
    "                              things_to_do_content=row[u'things to do_content'],\\\n",
    "                              things_to_do_quantity=row[u'things to do_quantity'],\\\n",
    "                              vacation_rentals_content=row[u'vacation rentals_content'],\\\n",
    "                              vacationrentals_quantity=row[u'vacation rentals_quantity'])\n",
    "    db_session.run(tmp_cypher)"
   ]
  },
  {
   "cell_type": "markdown",
   "metadata": {},
   "source": [
    "# Iterate over Files"
   ]
  },
  {
   "cell_type": "code",
   "execution_count": 25,
   "metadata": {
    "collapsed": true
   },
   "outputs": [],
   "source": [
    "relevant_cities = ['g274887', 'g274908', 'g274894', 'g562809', 'g274891', 'g274884', 'g274905', 'g274912', 'g274888', \n",
    "                   'g274902', 'g274893', 'g1056637', 'g311308', 'g274897', 'g274909', 'g274890', 'g644230', 'g274907',\n",
    "                   'g274918', 'g644233', 'g274892', 'g1056634', 'g1586908', 'g274896', 'g274919', 'g2266230', 'g1012576',\n",
    "                   'g1077264', 'g754057', 'g274883', 'g657261', 'g274916', 'g1169177', 'g274921', 'g2266653', 'g1809174',\n",
    "                   'g274914', 'g1028115', 'g661273', 'g1189848', 'g1077269', 'g274904', 'g1189860', 'g1599529', 'g1163717',\n",
    "                   'g274913', 'g1131877', 'g754055', 'g1197735', 'g274917', 'g1131872', 'g274920', 'g1602391', 'g2546084',\n",
    "                   'g1189843', 'g1096170', 'g660491', 'g776248', 'g1016762', 'g274885', 'g616165', 'g793791', 'g635866',\n",
    "                   'g774973', 'g1606583', 'g1598542', 'g1131876', 'g754049', 'g1189822', 'g274915', 'g2543929', 'g1131859',\n",
    "                   'g1163705', 'g793790', 'g1102816', 'g1077276', 'g1077257', 'g1131873', 'g2628438', 'g644228', 'g644231',\n",
    "                   'g274898', 'g1189835', 'g277797', 'g1207868', 'g1056633', 'g947935', 'g274903', 'g1099212', 'g776938', \n",
    "                   'g1158678', 'g1598545', 'g2167916', 'g1598536', 'g4293905', 'g1077247', 'g2368733', 'g2492454', 'g1657410',\n",
    "                   'g1598535', 'g754051', 'g1056641', 'g1056642', 'g6276858', 'g1929975', 'g1189864', 'g2543623', 'g1207869',\n",
    "                   'g1056639', 'g2640976', 'g2546067', 'g274895', 'g1028597', 'g1077268', 'g1077271', 'g1077251', 'g1056635',\n",
    "                   'g754048', 'g644229', 'g2283409', 'g1163720', 'g660490', 'g1169181', 'g1598539', 'g1169017', 'g1563518',\n",
    "                   'g666543', 'g4760545', 'g3380124', 'g9745745', 'g274911', 'g1528083', 'g660492', 'g1169179', 'g4473429',\n",
    "                   'g2539280', 'g2253693', 'g644232', 'g2546085', 'g1056640', 'g2546052', 'g1189841', 'g1189833', 'g1077265',\n",
    "                   'g1077270', 'g5496157', 'g1077255', 'g3175976', 'g1077263', 'g2368269', 'g3746560', 'g6528513', 'g1056638',\n",
    "                   'g8414959', 'g3681344', 'g951921', 'g1208979', 'g2546055', 'g6279671', 'g2546058', 'g2546070', 'g1202849', \n",
    "                   'g2082002', 'g1189827', 'g2259924', 'g2642390']"
   ]
  },
  {
   "cell_type": "code",
   "execution_count": 32,
   "metadata": {
    "collapsed": false
   },
   "outputs": [],
   "source": [
    "for city in relevant_cities:\n",
    "    hotels_df = pd.read_excel(city + '.xlsx', sheetname='Hotels')\n",
    "    hotel_city_link_cypher = 'MERGE (h :Hotel {{id:\"{hotel_id}\", name:\"{hotel_name}\", ratings: toFloat({ratings}),category:{category}\\\n",
    "    ,reviews:{reviews}}}) MERGE (c :City {{city_id:\"{city_id}\"}}) MERGE (h)-[:IS_IN]->(c)'\n",
    "    for i, row in hotels_df.iterrows():\n",
    "        tmp_cypher = hotel_city_link_cypher.format(hotel_id=row['hotel_id'], hotel_name=row['hotel_name'], ratings=row['ratings'], \\\n",
    "                                                  category=row['category'], reviews=row['reviews'],\n",
    "                                                  city_id=city)\n",
    "        db_session.run(tmp_cypher)\n",
    "        \n",
    "    hotel_users_df = pd.read_excel(city + '.xlsx', sheetname='Accommodation Reviews')\n",
    "    user_hotel_link_cypher = 'MERGE (u :User {{user:\"{user}\"}}) \\\n",
    "    MERGE (h :Hotel {{hotel_id:\"{hotel_id}\"}}) MERGE (u)-[:RATED {{rating: toFloat({rating})}}]->(h)'\n",
    "\n",
    "    for i, row in hotel_users_df.iterrows():\n",
    "        try:\n",
    "            tmp_cypher = user_hotel_link_cypher.format(user=row['user'],hotel_id=row['hotel_id'],rating=row['rating'])\n",
    "            db_session.run(tmp_cypher)\n",
    "        except:\n",
    "            continue"
   ]
  },
  {
   "cell_type": "code",
   "execution_count": null,
   "metadata": {
    "collapsed": true
   },
   "outputs": [],
   "source": []
  }
 ],
 "metadata": {
  "anaconda-cloud": {},
  "kernelspec": {
   "display_name": "Python [Root]",
   "language": "python",
   "name": "Python [Root]"
  },
  "language_info": {
   "codemirror_mode": {
    "name": "ipython",
    "version": 2
   },
   "file_extension": ".py",
   "mimetype": "text/x-python",
   "name": "python",
   "nbconvert_exporter": "python",
   "pygments_lexer": "ipython2",
   "version": "2.7.12"
  }
 },
 "nbformat": 4,
 "nbformat_minor": 0
}
